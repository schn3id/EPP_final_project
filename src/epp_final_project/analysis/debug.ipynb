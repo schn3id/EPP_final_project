{
 "cells": [
  {
   "cell_type": "code",
   "execution_count": null,
   "metadata": {},
   "outputs": [],
   "source": [
    "from collections import Counter\n",
    "\n",
    "import matplotlib.pyplot as plt"
   ]
  },
  {
   "cell_type": "code",
   "execution_count": null,
   "metadata": {},
   "outputs": [],
   "source": [
    "df = pd.read_pickle(\"../../\")"
   ]
  },
  {
   "cell_type": "code",
   "execution_count": null,
   "metadata": {},
   "outputs": [],
   "source": [
    "def make_frequencyplot(data, n=200):\n",
    "    \"\"\"Creates frequency plot from a random sample of documents to limit runtime.\n",
    "\n",
    "    Parameters:\n",
    "            data: the dataframe\n",
    "            n: sample size\n",
    "\n",
    "    Returns:\n",
    "            a figure object\n",
    "\n",
    "    \"\"\"\n",
    "    frequency_distribution = Counter(\n",
    "        item for sublist in data[\"lemma_sep\"] for item in sublist\n",
    "    )\n",
    "    most_common = frequency_distribution.most_common(20)\n",
    "    fig = plt.figure()\n",
    "    plt.barh(range(len(most_common)), [val[1] for val in most_common], align=\"center\")\n",
    "    plt.yticks(range(len(most_common)), [val[0] for val in most_common])\n",
    "\n",
    "    return fig"
   ]
  }
 ],
 "metadata": {
  "language_info": {
   "codemirror_mode": {
    "name": "ipython",
    "version": 3
   },
   "file_extension": ".py",
   "mimetype": "text/x-python",
   "name": "python",
   "nbconvert_exporter": "python",
   "pygments_lexer": "ipython3"
  }
 },
 "nbformat": 4,
 "nbformat_minor": 2
}
